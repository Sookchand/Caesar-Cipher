{
  "nbformat": 4,
  "nbformat_minor": 0,
  "metadata": {
    "colab": {
      "provenance": []
    },
    "kernelspec": {
      "name": "python3",
      "display_name": "Python 3"
    },
    "language_info": {
      "name": "python"
    }
  },
  "cells": [
    {
      "cell_type": "code",
      "source": [
        "from google.colab import drive\n",
        "drive.mount('/content/drive')"
      ],
      "metadata": {
        "id": "nSzszadgM2R8"
      },
      "execution_count": null,
      "outputs": []
    },
    {
      "cell_type": "code",
      "source": [
        "import sys\n",
        "sys.path.append('/content/drive/MyDrive')\n",
        "import art"
      ],
      "metadata": {
        "id": "iy7EELr6M30n"
      },
      "execution_count": null,
      "outputs": []
    },
    {
      "cell_type": "markdown",
      "source": [
        "# Using two functions to solve the problem"
      ],
      "metadata": {
        "id": "Gufn2M7PobJM"
      }
    },
    {
      "cell_type": "code",
      "source": [
        "# define the alphabet\n",
        "alphabet = ['a', 'b', 'c', 'd', 'e', 'f', 'g', 'h', 'i', 'j', 'k', 'l', 'm', 'n', 'o', 'p', 'q', 'r', 's', 't', 'u', 'v', 'w', 'x', 'y', 'z']\n",
        "\n",
        "# define the encrypt function\n",
        "def encrypt(text, shift):\n",
        "    encrypted_text = \"\"\n",
        "    for char in text:\n",
        "        if char.isalpha(): # In this code, for each character in the input text, we first check if it’s an alphabetic character.\n",
        "            index = alphabet.index(char) # If it is, we find its index in the alphabet list.\n",
        "            new_index = (index + shift) % 26 # add the shift amount to this index, and take modulo 26 to ensure the result is still within 0-25.\n",
        "            encrypted_text += alphabet[new_index]\n",
        "        else:\n",
        "            encrypted_text += char  # if not an alphabet, add it as it is\n",
        "    return encrypted_text\n",
        "\n",
        "# define the decrypt function\n",
        "def decrypt(text, shift):\n",
        "    decrypted_text = \"\"\n",
        "    for char in text:\n",
        "        if char.isalpha():\n",
        "            index = alphabet.index(char)    # check if character is an alphabet\n",
        "            new_index = (index - shift) % 26\n",
        "            decrypted_text += alphabet[new_index] # alphabet[new_index]: This accesses the letter in the alphabet list at the position new_index.\n",
        "                                    # The new_index is calculated by shifting the index of a letter in the original text backwards by a certain amount (the shift amount).\n",
        "        else:\n",
        "            decrypted_text += char  # decrypted_text += ...:\n",
        "                                    # This appends the letter accessed from the alphabet list to the decrypted_text string.\n",
        "                                    # The += operator is a shorthand for decrypted_text = decrypted_text + ....if not an alphabet, add it as it is\n",
        "    return decrypted_text\n",
        "\n",
        "# get user inputs\n",
        "direction = input(\"Type 'encode' to encrypt, type 'decode' to decrypt:\\n\")\n",
        "text = input(\"Type your message:\\n\").lower()\n",
        "shift = int(input(\"Type the shift number:\\n\"))\n",
        "\n",
        "# call the function\n",
        "if direction == 'encode':\n",
        "    result = encrypt(text, shift)\n",
        "    print(f\"The encoded text is {result}\")\n",
        "elif direction == 'decode':\n",
        "    result = decrypt(text, shift)\n",
        "    print(f\"The decoded text is {result}\")\n",
        "else:\n",
        "    print(\"Invalid direction. Please type either 'encode' to encrypt or 'decode' to decrypt.\")\n",
        "\n"
      ],
      "metadata": {
        "colab": {
          "base_uri": "https://localhost:8080/"
        },
        "id": "NTmJJjuBrVLi",
        "outputId": "dc800cf9-38a3-49ba-fa5f-30b3e7618c65"
      },
      "execution_count": null,
      "outputs": [
        {
          "output_type": "stream",
          "name": "stdout",
          "text": [
            "Type 'encode' to encrypt, type 'decode' to decrypt:\n",
            "encode\n",
            "Type your message:\n",
            "hello world\n",
            "Type the shift number:\n",
            "5\n",
            "The encoded text is mjqqt btwqi\n"
          ]
        }
      ]
    },
    {
      "cell_type": "markdown",
      "source": [
        "# Refined solution"
      ],
      "metadata": {
        "id": "djaM34k3omb2"
      }
    },
    {
      "cell_type": "code",
      "source": [
        "from art import logo\n",
        "print(logo)\n",
        "\n",
        "while True:\n",
        "    alphabet = ['a', 'b', 'c', 'd', 'e', 'f', 'g', 'h', 'i', 'j', 'k', 'l', 'm', 'n', 'o', 'p', 'q', 'r', 's', 't', 'u', 'v', 'w', 'x', 'y', 'z']\n",
        "\n",
        "# This block of code ensures that the user only enter the specified inputs before moveing on.\n",
        "    direction = input(\"Type 'encode' to encrypt, type 'decode' to decrypt:\\n\").lower()\n",
        "    # list of words\n",
        "    input_words = [\"encode\", \"decode\"]\n",
        "    while direction not in input_words:\n",
        "        direction = input('Please enter the right keyword❗, type in \"encode\" to encrypt or type in \"decode\" to decrypt\\n').lower()\n",
        "\n",
        "# This captures the text to be encrypted\n",
        "    text = input(\"Type your message:\\n\").lower()\n",
        "\n",
        "# This block of code ensure that the user only enters intergers\n",
        "    while True:\n",
        "        try:\n",
        "            shift = int(input(\"Type the shift number:\\n\"))\n",
        "        except:\n",
        "            print('Please make sure you only typed in an integer for your encode/decode shift number:\\n')\n",
        "            continue\n",
        "        else:\n",
        "            print('Great that is an integer\\n')\n",
        "            break\n",
        "\n",
        "# This deals withthe bug mentioned below\n",
        "    if shift % 26 == 0: # Shifting by 78 is equivalemt to shifting by 0. So, when you shift any letter by 78 positions, it will come back to the same letter.\n",
        "        shift += 1  # Add this line deals with this problem\n",
        "\n",
        "    def Caesar(start_text, shift_amount, cipher_direction):\n",
        "        end_text = \"\"\n",
        "        if cipher_direction == \"decode\":\n",
        "            shift_amount *= -1\n",
        "        for char in start_text:\n",
        "            if char.isalpha():\n",
        "                position = alphabet.index(char)\n",
        "                new_position = (position + shift_amount) % 26\n",
        "                end_text += alphabet[new_position]\n",
        "            else:\n",
        "                end_text += char\n",
        "        print(f'Your {cipher_direction} word is {end_text}.')\n",
        "\n",
        "    caesar(start_text=text, shift_amount=shift, cipher_direction=direction)\n",
        "\n",
        "    run_again = input(\"Run again? \")\n",
        "    if run_again.lower() == 'no':\n",
        "        print(\"Good bye\")\n",
        "        break\n"
      ],
      "metadata": {
        "colab": {
          "base_uri": "https://localhost:8080/"
        },
        "id": "qaRPJbjTkiEF",
        "outputId": "f472551d-720e-4c85-d3ce-602e4632a433"
      },
      "execution_count": 63,
      "outputs": [
        {
          "output_type": "stream",
          "name": "stdout",
          "text": [
            "           \n",
            " ,adPPYba, ,adPPYYba,  ,adPPYba, ,adPPYba, ,adPPYYba, 8b,dPPYba,  \n",
            "a8\"     \"\" \"\"     `Y8 a8P_____88 I8[    \"\" \"\"     `Y8 88P'   \"Y8  \n",
            "8b         ,adPPPPP88 8PP\"  `\"Y8ba,  ,adPPPPP88 88          \n",
            "\"8a,   ,aa 88,    ,88 \"8b,   ,aa aa    ]8I 88,    ,88 88          \n",
            " `\"Ybbd8\"' `\"8bbdP\"Y8  `\"Ybbd8\"' `\"YbbdP\"' `\"8bbdP\"Y8 88   \n",
            "            88             88                                 \n",
            "           \"\"             88                                 \n",
            "                          88                                 \n",
            " ,adPPYba, 88 8b,dPPYba,  88,dPPYba,   ,adPPYba, 8b,dPPYba,  \n",
            "a8\"     \"\" 88 88P'    \"8a 88P'    \"8a a8P_____88 88P'   \"Y8  \n",
            "8b         88 88       d8 88       88 8PP\" 88          \n",
            "\"8a,   ,aa 88 88b,   ,a8\" 88       88 \"8b,   ,aa 88          \n",
            " `\"Ybbd8\"' 88 88`YbbdP\"'  88       88  `\"Ybbd8\"' 88          \n",
            "              88                                             \n",
            "              88           \n",
            "\n",
            "Type 'encode' to encrypt, type 'decode' to decrypt:\n",
            "encode\n",
            "Type your message:\n",
            "Meet me at Gulf City for 3pm\n",
            "Type the shift number:\n",
            "78\n",
            "Great that is an integer\n",
            "\n",
            "Your encode word is nffu nf bu hvmg djuz gps 3qn.\n",
            "Run again? yes\n",
            "Type 'encode' to encrypt, type 'decode' to decrypt:\n",
            "decode\n",
            "Type your message:\n",
            "nffu nf bu hvmg djuz gps 3qn\n",
            "Type the shift number:\n",
            "78\n",
            "Great that is an integer\n",
            "\n",
            "Your decode word is meet me at gulf city for 3pm.\n",
            "Run again? no\n",
            "Good bye\n"
          ]
        }
      ]
    }
  ]
}